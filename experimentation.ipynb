{
 "cells": [
  {
   "cell_type": "code",
   "execution_count": null,
   "id": "de29fbd6-684c-4cc6-809e-f1f93f6a7b04",
   "metadata": {
    "tags": []
   },
   "outputs": [],
   "source": [
    "import torch\n",
    "torch.manual_seed(7)\n",
    "from dataloader import StackExchangeXMLDataset\n"
   ]
  },
  {
   "cell_type": "code",
   "execution_count": null,
   "id": "e589207b-26c2-440b-a1b2-f2dafffc7a79",
   "metadata": {
    "tags": []
   },
   "outputs": [],
   "source": [
    "dataset = StackExchangeXMLDataset('data/datasciencestackexchangepostsmin.xml')"
   ]
  },
  {
   "cell_type": "code",
   "execution_count": null,
   "id": "661c13f5-e0b7-4628-9e0b-226797ba67b2",
   "metadata": {
    "tags": []
   },
   "outputs": [],
   "source": [
    "# print(dataset.train_data)\n",
    "X = dataset.prepare_data_for_model(dataset.train_data)"
   ]
  },
  {
   "cell_type": "code",
   "execution_count": null,
   "id": "40019095-b972-4b4f-b95e-fc3becbffc57",
   "metadata": {
    "tags": []
   },
   "outputs": [],
   "source": [
    "xb,yb = dataset.get_batch(X,3)\n",
    "#c_idxs = [r.index(data.TOKEN_MAP[\"<|endofprompt|>\"]) for r in sample]"
   ]
  },
  {
   "cell_type": "code",
   "execution_count": null,
   "id": "39e3e768-4635-47c4-b986-ef7a99244460",
   "metadata": {
    "tags": []
   },
   "outputs": [],
   "source": [
    "xb.size(),yb.size()"
   ]
  },
  {
   "cell_type": "code",
   "execution_count": null,
   "id": "c54ea826-5140-4577-9272-7160b23b4ff4",
   "metadata": {
    "tags": []
   },
   "outputs": [],
   "source": [
    "import torch.nn as nn \n",
    "from torch.nn import functional as F \n",
    "\n",
    "\n",
    "class BiGramLM(nn.Module):\n",
    "    def __init__(self,vocab_size):\n",
    "        super().__init__() \n",
    "        self.token_embedding_table = nn.Embedding(vocab_size,vocab_size) \n",
    "    \n",
    "    \n",
    "    def forward(self,idx,targets):\n",
    "        \n",
    "        logits = self.token_embedding_table(idx)\n",
    "        B,T,C = logits.shape\n",
    "        logits = logits.view(B*T,C)\n",
    "        targets = targets.view(-1) # B*T\n",
    "        loss = F.cross_entropy(logits,targets)\n",
    "        \n",
    "\n",
    "        return logits,loss\n",
    "\n",
    "m = BiGramLM(dataset.enc.n_vocab)\n",
    "logits,loss = m(xb,yb)\n",
    "print(logits.shape)\n",
    "print(loss)\n",
    "\n",
    "        "
   ]
  },
  {
   "cell_type": "code",
   "execution_count": null,
   "id": "23acf197-9498-4632-850a-8cdb7386c441",
   "metadata": {
    "tags": []
   },
   "outputs": [],
   "source": [
    "print(dataset.enc.decode(list(yb[1])))\n",
    "print(\"____\")\n",
    "dataset.enc.decode(list(xb[1]))\n",
    "# for i in range(mini_x.size()[0]):\n",
    "#     for j in range(mini_y.size()[-1]):\n",
    "#         print(j)\n",
    "#         context = mini_x[i,:j+ mini_x.size()[-1] - mini_y.size()[-1]]\n",
    "#         target = mini_y[i,j - mini_y.size()[-1]]\n",
    "#         print(f\"when the context is: {dataset.enc.decode(list(context))}, the target is: {dataset.enc.decode([target.item()])} \")"
   ]
  },
  {
   "cell_type": "code",
   "execution_count": null,
   "id": "f740766c-96e7-4a15-bcad-c3602574e320",
   "metadata": {
    "tags": []
   },
   "outputs": [],
   "source": [
    "dataset.enc.encode(\"<|fim_middle|>\",allowed_special={\"<|fim_middle|>\"})"
   ]
  },
  {
   "cell_type": "code",
   "execution_count": null,
   "id": "554a51dd-5b18-4855-85ab-aaf86ceaf782",
   "metadata": {},
   "outputs": [],
   "source": []
  }
 ],
 "metadata": {
  "kernelspec": {
   "display_name": "Python 3 (ipykernel)",
   "language": "python",
   "name": "python3"
  },
  "language_info": {
   "codemirror_mode": {
    "name": "ipython",
    "version": 3
   },
   "file_extension": ".py",
   "mimetype": "text/x-python",
   "name": "python",
   "nbconvert_exporter": "python",
   "pygments_lexer": "ipython3",
   "version": "3.11.3"
  }
 },
 "nbformat": 4,
 "nbformat_minor": 5
}
