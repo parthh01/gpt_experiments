{
 "cells": [
  {
   "cell_type": "code",
   "execution_count": 1,
   "id": "de29fbd6-684c-4cc6-809e-f1f93f6a7b04",
   "metadata": {
    "tags": []
   },
   "outputs": [],
   "source": [
    "import torch\n",
    "torch.manual_seed(7)\n",
    "from dataloader import StackExchangeXMLDataset\n",
    "device = torch.device('mps')"
   ]
  },
  {
   "cell_type": "code",
   "execution_count": 2,
   "id": "e589207b-26c2-440b-a1b2-f2dafffc7a79",
   "metadata": {
    "tags": []
   },
   "outputs": [
    {
     "name": "stdout",
     "output_type": "stream",
     "text": [
      "Using encoding with vocab size: 100277\n"
     ]
    }
   ],
   "source": [
    "dataset = StackExchangeXMLDataset('data/datasciencestackexchangepostsmin.xml')"
   ]
  },
  {
   "cell_type": "code",
   "execution_count": 3,
   "id": "661c13f5-e0b7-4628-9e0b-226797ba67b2",
   "metadata": {
    "tags": []
   },
   "outputs": [],
   "source": [
    "# print(dataset.train_data)\n",
    "X = dataset.prepare_data_for_model(dataset.train_data)"
   ]
  },
  {
   "cell_type": "code",
   "execution_count": 4,
   "id": "40019095-b972-4b4f-b95e-fc3becbffc57",
   "metadata": {
    "tags": []
   },
   "outputs": [],
   "source": [
    "xb,yb = dataset.get_batch(X,5)\n",
    "#c_idxs = [r.index(data.TOKEN_MAP[\"<|endofprompt|>\"]) for r in sample]"
   ]
  },
  {
   "cell_type": "code",
   "execution_count": 5,
   "id": "39e3e768-4635-47c4-b986-ef7a99244460",
   "metadata": {
    "tags": []
   },
   "outputs": [
    {
     "data": {
      "text/plain": [
       "(torch.Size([5, 525]), torch.Size([5, 525]))"
      ]
     },
     "execution_count": 5,
     "metadata": {},
     "output_type": "execute_result"
    }
   ],
   "source": [
    "xb.size(),yb.size()"
   ]
  },
  {
   "cell_type": "code",
   "execution_count": 6,
   "id": "c54ea826-5140-4577-9272-7160b23b4ff4",
   "metadata": {
    "tags": []
   },
   "outputs": [
    {
     "name": "stdout",
     "output_type": "stream",
     "text": [
      "GPTLM(\n",
      "  (token_embedding_table): Embedding(100277, 32)\n",
      "  (pos_embedding_table): Embedding(525, 32)\n",
      "  (blocks): Sequential(\n",
      "    (0): Block(\n",
      "      (sa): MultiHeadAttention()\n",
      "      (ffwd): FeedFoward(\n",
      "        (net): Sequential(\n",
      "          (0): Linear(in_features=32, out_features=128, bias=True)\n",
      "          (1): ReLU()\n",
      "          (2): Linear(in_features=128, out_features=32, bias=True)\n",
      "          (3): Dropout(p=0.2, inplace=False)\n",
      "        )\n",
      "      )\n",
      "      (ln1): LayerNorm((32,), eps=1e-05, elementwise_affine=True)\n",
      "      (ln2): LayerNorm((32,), eps=1e-05, elementwise_affine=True)\n",
      "    )\n",
      "  )\n",
      "  (ln_f): LayerNorm((32,), eps=1e-05, elementwise_affine=True)\n",
      "  (lm_head): Linear(in_features=32, out_features=100277, bias=True)\n",
      ")\n",
      "torch.Size([2625, 100277])\n"
     ]
    },
    {
     "name": "stderr",
     "output_type": "stream",
     "text": [
      "/Users/parthbhagat/Library/Caches/pypoetry/virtualenvs/gpt-experiments-S9TXabl2-py3.11/lib/python3.11/site-packages/torch/_tensor_str.py:115: UserWarning: MPS: nonzero op is supported natively starting from macOS 13.0. Falling back on CPU. This may have performance implications. (Triggered internally at /Users/runner/work/pytorch/pytorch/pytorch/aten/src/ATen/native/mps/operations/Indexing.mm:218.)\n",
      "  nonzero_finite_vals = torch.masked_select(\n"
     ]
    },
    {
     "name": "stdout",
     "output_type": "stream",
     "text": [
      "tensor(11.7280, device='mps:0', grad_fn=<NllLossBackward0>)\n"
     ]
    }
   ],
   "source": [
    "import torch.nn as nn \n",
    "from torch.nn import functional as F \n",
    "\n",
    "class FeedFoward(nn.Module):\n",
    "    def __init__(self, embedding_size,dropout=0.2):\n",
    "        super().__init__()\n",
    "        self.net = nn.Sequential(\n",
    "            nn.Linear(embedding_size, 4 * embedding_size),\n",
    "            nn.ReLU(),\n",
    "            nn.Linear(4 * embedding_size, embedding_size),\n",
    "            nn.Dropout(dropout),\n",
    "        )\n",
    "\n",
    "    def forward(self, x):\n",
    "        return self.net(x)\n",
    "\n",
    "\n",
    "class AttentionHead(nn.Module):\n",
    "    def __init__(self,head_size,embedding_size): # would take max_token/block size if computing attention mask within this class\n",
    "        super().__init__()\n",
    "        self.key = nn.Linear(embedding_size,head_size,bias=False)\n",
    "        self.query = nn.Linear(embedding_size,head_size,bias=False)\n",
    "        self.value = nn.Linear(embedding_size,head_size,bias=False)\n",
    "    \n",
    "    \n",
    "    def forward(self,x,attention_mask=None):\n",
    "        B,T,C = x.shape \n",
    "        k = self.key(x)\n",
    "        q = self.query(x)\n",
    "        v = self.value(x)\n",
    "        return F.scaled_dot_product_attention(q,k,v) #,attention_mask\n",
    "\n",
    "class MultiHeadAttention(nn.Module):\n",
    "    def __init__(self,num_heads,head_size,embedding_size,device):\n",
    "        super().__init__()\n",
    "        self.heads = [AttentionHead(head_size,embedding_size).to(device) for i in range(num_heads)]\n",
    "    \n",
    "    def forward(self,x,attention_mask=None):\n",
    "        return torch.cat([h(x,attention_mask) for h in self.heads],dim=-1)\n",
    "\n",
    "    \n",
    "class Block(nn.Module):\n",
    "    \"\"\" Transformer block: communication followed by computation \"\"\"\n",
    "\n",
    "    def __init__(self, embedding_size,num_heads,device):\n",
    "        # n_embd: embedding dimension, n_head: the number of heads we'd like\n",
    "        super().__init__()\n",
    "        head_size = embedding_size // num_heads\n",
    "        self.sa = MultiHeadAttention(num_heads, head_size,embedding_size,device)\n",
    "        self.ffwd = FeedFoward(embedding_size)\n",
    "        self.ln1 = nn.LayerNorm(embedding_size)\n",
    "        self.ln2 = nn.LayerNorm(embedding_size)\n",
    "\n",
    "    def forward(self, x,mask=None):\n",
    "        x = x + self.sa(self.ln1(x),mask)\n",
    "        x = x + self.ffwd(self.ln2(x))\n",
    "        return x\n",
    "\n",
    "class GPTLM(nn.Module):\n",
    "    def __init__(self,vocab_size,embedding_size,max_token_limit,transformer_layers=1,device=device,transformer_heads=4):\n",
    "        super().__init__() \n",
    "        self.token_embedding_table = nn.Embedding(vocab_size,embedding_size) \n",
    "        self.pos_embedding_table = nn.Embedding(max_token_limit,embedding_size) \n",
    "        self.blocks = nn.Sequential(*[Block(embedding_size,transformer_heads,device) for _ in range(transformer_layers)])\n",
    "        self.ln_f = nn.LayerNorm(embedding_size) # final layer norm\n",
    "        self.lm_head = nn.Linear(embedding_size,vocab_size) \n",
    "        self.embedding_size = embedding_size\n",
    "        self.vocab_size = vocab_size \n",
    "        self.device = device\n",
    "        self.max_token_limit = max_token_limit\n",
    "    \n",
    "    \n",
    "    def forward(self,idx,targets=None):\n",
    "        B,T = idx.shape\n",
    "        tok_emb = self.token_embedding_table(idx) # (B,T,embedding_size)\n",
    "        pos_emb = self.pos_embedding_table(torch.arange(T,device=device)) # (T,C)\n",
    "        x = tok_emb + pos_emb\n",
    "        x = self.blocks(x)\n",
    "        x = self.ln_f(x)\n",
    "        logits = self.lm_head(x) # (B,T,vocab_size)\n",
    "        \n",
    "        if targets is not None: \n",
    "            B,T,C = logits.shape\n",
    "            logits = logits.view(B*T,C)\n",
    "            targets = targets.view(B*T) # B*T\n",
    "            loss = F.cross_entropy(logits,targets)\n",
    "        else:\n",
    "            loss = None\n",
    "        \n",
    "\n",
    "        return logits,loss\n",
    "    \n",
    "    def generate(self,idx,max_new_tokens):\n",
    "        for _ in range(max_new_tokens):\n",
    "            idx_cond = idx[:,-self.max_token_limit:]\n",
    "            logits,loss = self(idx_cond)\n",
    "            probs = F.softmax(logits[:,-1,:],dim=-1)  # (B,C)\n",
    "            cm = -float('inf')\n",
    "            cidx = -1\n",
    "            for i in range(probs[0,:].shape[0]):\n",
    "                if probs[0,i] >= cm:\n",
    "                    cm = probs[0,i]\n",
    "                    cidx = i\n",
    "\n",
    "            idx_next = torch.tensor([[cidx]],dtype=torch.long).to(device)\n",
    "#             print(probs.shape)\n",
    "#             idx_next = torch.argmax(probs,dim=1,keepdim=True) # (B,1)\n",
    "            idx = torch.cat((idx,idx_next),dim=1) # (B,T+1)\n",
    "        return idx\n",
    "    \n",
    "\n",
    "\n",
    "\n",
    "xb,yb = xb.to(device),yb.to(device)\n",
    "m = GPTLM(dataset.enc.n_vocab,32,xb.shape[-1])\n",
    "m.to(device)\n",
    "print(m)\n",
    "logits,loss = m(xb,yb)\n",
    "print(logits.shape)\n",
    "print(loss)\n",
    "\n",
    "        "
   ]
  },
  {
   "cell_type": "code",
   "execution_count": null,
   "id": "94eda9c5",
   "metadata": {},
   "outputs": [],
   "source": [
    "print([p.shape for p in m.parameters()])"
   ]
  },
  {
   "cell_type": "code",
   "execution_count": 7,
   "id": "09544a10",
   "metadata": {},
   "outputs": [],
   "source": [
    "optimizer = torch.optim.AdamW(m.parameters(),lr=1e-3)"
   ]
  },
  {
   "cell_type": "code",
   "execution_count": 8,
   "id": "676135a3",
   "metadata": {},
   "outputs": [
    {
     "name": "stdout",
     "output_type": "stream",
     "text": [
      "0.024261515587568283\n"
     ]
    }
   ],
   "source": [
    "batch_size = 5 \n",
    "\n",
    "for steps in range(1000):\n",
    "    torch.mps.empty_cache()\n",
    "    xb,yb = dataset.get_batch(X,batch_size)\n",
    "    xb,yb = xb.to(device),yb.to(device)\n",
    "    logits,loss = m(xb,yb)\n",
    "    optimizer.zero_grad(set_to_none=True)\n",
    "    loss.backward()\n",
    "    optimizer.step()\n",
    "\n",
    "print(loss.item())\n",
    "    "
   ]
  },
  {
   "cell_type": "code",
   "execution_count": 9,
   "id": "23acf197-9498-4632-850a-8cdb7386c441",
   "metadata": {
    "tags": []
   },
   "outputs": [
    {
     "data": {
      "text/plain": [
       "'!m factors you might consider:\\n\\nDeveloper this:-validation'"
      ]
     },
     "execution_count": 9,
     "metadata": {},
     "output_type": "execute_result"
    }
   ],
   "source": [
    "dataset.enc.decode(m.generate(idx = torch.zeros((1,1),dtype=torch.long).to(device),max_new_tokens=10)[0].tolist())\n",
    "#dataset.enc.decode(m.generate(idx = xb[:1,400:500],max_new_tokens=10)[0].tolist())"
   ]
  },
  {
   "cell_type": "code",
   "execution_count": null,
   "id": "f740766c-96e7-4a15-bcad-c3602574e320",
   "metadata": {
    "tags": []
   },
   "outputs": [],
   "source": [
    "dataset.enc.encode(\"<|fim_middle|>\",allowed_special = {\"<|fim_middle|>\"})"
   ]
  },
  {
   "cell_type": "code",
   "execution_count": null,
   "id": "554a51dd-5b18-4855-85ab-aaf86ceaf782",
   "metadata": {
    "tags": []
   },
   "outputs": [],
   "source": [
    "# dataset.enc.decode([50255])\n",
    "dataset.enc.n_vocab"
   ]
  },
  {
   "cell_type": "code",
   "execution_count": 10,
   "id": "ab0f2d07-e480-4694-a537-fca7eb06f25c",
   "metadata": {},
   "outputs": [
    {
     "data": {
      "text/plain": [
       "' points for which m_i is the closest of your current means</li>\\n<li>Replace each <span class=\"math-container\">$m_i$</span> by the mean of all points assigned to cluster i.</li>\\n</ol>\\n</li>\\n</ol>\\nIt is good practice to repeat this algorithm several times, then choose the outcome that minimizes distances between the points of each cluster i and the center <span class=\"math-container\">$m_i$</span>.\\nOf course, you<|fim_middle|>, but why<|fim_middle|>?  Other cloud providers'"
      ]
     },
     "execution_count": 10,
     "metadata": {},
     "output_type": "execute_result"
    }
   ],
   "source": [
    "# dataset.enc.decode(xb[0].tolist())\n",
    "dataset.enc.decode(m.generate(idx = xb[:1,400:500],max_new_tokens=100)[0].tolist())"
   ]
  },
  {
   "cell_type": "code",
   "execution_count": null,
   "id": "055babff",
   "metadata": {},
   "outputs": [],
   "source": [
    "xb[:1,400:500]"
   ]
  },
  {
   "cell_type": "code",
   "execution_count": null,
   "id": "30fe14a5",
   "metadata": {},
   "outputs": [],
   "source": [
    "torch.mps.empty_cache()"
   ]
  },
  {
   "cell_type": "code",
   "execution_count": null,
   "id": "0495e365",
   "metadata": {},
   "outputs": [],
   "source": [
    "m.state_dict()"
   ]
  },
  {
   "cell_type": "code",
   "execution_count": null,
   "id": "181d8a47",
   "metadata": {},
   "outputs": [],
   "source": [
    "torch.argmax(torch.tensor([[1,2,3]]),dim=1,keepdims=True)"
   ]
  },
  {
   "cell_type": "code",
   "execution_count": null,
   "id": "43e6c704",
   "metadata": {},
   "outputs": [],
   "source": [
    "torch.tensor([[1]]).shape"
   ]
  },
  {
   "cell_type": "code",
   "execution_count": null,
   "id": "43e5ec91",
   "metadata": {},
   "outputs": [],
   "source": []
  }
 ],
 "metadata": {
  "kernelspec": {
   "display_name": "Python 3 (ipykernel)",
   "language": "python",
   "name": "python3"
  },
  "language_info": {
   "codemirror_mode": {
    "name": "ipython",
    "version": 3
   },
   "file_extension": ".py",
   "mimetype": "text/x-python",
   "name": "python",
   "nbconvert_exporter": "python",
   "pygments_lexer": "ipython3",
   "version": "3.11.3"
  }
 },
 "nbformat": 4,
 "nbformat_minor": 5
}
